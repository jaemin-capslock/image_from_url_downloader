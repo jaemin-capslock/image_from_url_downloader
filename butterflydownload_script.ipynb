{
 "cells": [
  {
   "cell_type": "code",
   "execution_count": 13,
   "metadata": {
    "collapsed": true,
    "pycharm": {
     "is_executing": false
    }
   },
   "outputs": [],
   "source": [
    "import tensorflow as tf\n",
    "import numpy as np\n",
    "import os\n",
    "import requests\n",
    "import matplotlib.pyplot\n",
    "import random\n",
    "\n",
    "\n",
    "\n",
    "\n",
    "\n"
   ]
  },
  {
   "cell_type": "code",
   "execution_count": 14,
   "outputs": [
    {
     "data": {
      "text/plain": "21685"
     },
     "metadata": {},
     "output_type": "execute_result",
     "execution_count": 14
    }
   ],
   "source": [
    "\n",
    "##a = (r\"D:\\Betastop_dataset\\x_train\\butterfly_url2.txt\",'r').read().splitlines()\n",
    "##test_data.splitlines([\"\\n\"])\n",
    "##test_data = pd.read_csv(r\"D:\\Betastop_dataset\\x_train\\butterfly_url.csv\",)\n",
    "##\"\"\"b = str(a[(a.rfind(\"http\"))+0:])\n",
    "##if 'Name' in b:\n",
    "   ##b = b[:b.find(\"Name\")]\n",
    "##print(len(test_data))\"\"\"\n",
    "\n",
    "f = open(r\"D:\\Betastop_dataset\\x_train\\butterfly_url2.txt\", 'r')\n",
    "g = open(r\"D:\\Betastop_dataset\\x_train\\new_papilio_url.txt\", 'r')\n",
    "new_data_list = []\n",
    "for line in g:\n",
    "    b = line[:line.find(\"\\n\")]\n",
    "    new_data_list.append(b)\n",
    "data_list = []\n",
    "for line in f:\n",
    "    a = line[:line.find(\"\\n\")]\n",
    "    data_list.append(a)\n",
    "len(data_list)"
   ],
   "metadata": {
    "collapsed": false,
    "pycharm": {
     "name": "#%%\n",
     "is_executing": false
    }
   }
  },
  {
   "cell_type": "code",
   "execution_count": 15,
   "outputs": [],
   "source": [
    "def load_requests(source_url, sink_path):\n",
    "    \"\"\"\n",
    "    Load a file from an URL (e.g. http).\n",
    "\n",
    "    Parameters\n",
    "    ----------\n",
    "    source_url : str\n",
    "        Where to load the file from.\n",
    "    sink_path : str\n",
    "        Where the loaded file is stored.\n",
    "    \"\"\"\n",
    "    \n",
    "    \n",
    "\n",
    "    with open(sink_path, 'wb') as handle:\n",
    "        response = requests.get(source_url, stream=True)\n",
    "\n",
    "        if not response.ok:\n",
    "            print (response)\n",
    "\n",
    "        for block in response.iter_content(1024):\n",
    "            if not block:\n",
    "                break\n",
    "\n",
    "            handle.write(block)\n",
    "            \n",
    "    ##with open(sink_path, 'wb') as handle:\n",
    "        ##response = requests.get(source_url, stream=True)\n",
    "    \n",
    "def load_dataset(data, ind):\n",
    "    ##data_index = str(data.loc[ind])\n",
    "    ###if \"Name\" in data_single_line:\n",
    "        ##data_single_line = str(data_single_line[:data_single_line.find(\"Name\")])\n",
    "    \n",
    "    return data[ind]\n",
    "    \n",
    "   \n",
    "def download_images(data, dir):\n",
    "    row_count = len(data)\n",
    "    for l in range(row_count):\n",
    "        \n",
    "            \n",
    "        download_dir = dir + str(1 + l) + \".jpg\"\n",
    "        load_requests(load_dataset(data, l), download_dir)\n",
    "        if l % 10 == 0:\n",
    "            print(l)\n",
    "            \n",
    "        \n"
   ],
   "metadata": {
    "collapsed": false,
    "pycharm": {
     "name": "#%%\n",
     "is_executing": false
    }
   }
  },
  {
   "cell_type": "code",
   "execution_count": 16,
   "outputs": [
    {
     "name": "stdout",
     "text": [
      "https://static.inaturalist.org/photos/71315075/original.jpeg?1588693248\n",
      "0\n",
      "10\n",
      "20\n",
      "30\n",
      "40\n",
      "50\n",
      "60\n",
      "70\n",
      "80\n",
      "90\n",
      "100\n",
      "110\n",
      "120\n",
      "130\n",
      "140\n",
      "150\n",
      "160\n",
      "170\n",
      "180\n",
      "190\n",
      "200\n",
      "210\n",
      "220\n",
      "230\n",
      "240\n",
      "250\n",
      "260\n",
      "270\n",
      "280\n",
      "290\n",
      "300\n",
      "310\n",
      "320\n",
      "330\n",
      "340\n",
      "350\n",
      "360\n",
      "370\n",
      "380\n",
      "390\n",
      "400\n",
      "410\n",
      "420\n",
      "430\n",
      "440\n",
      "450\n",
      "460\n",
      "470\n",
      "480\n",
      "490\n",
      "500\n",
      "510\n",
      "520\n",
      "530\n",
      "540\n",
      "550\n",
      "560\n",
      "570\n",
      "580\n"
     ],
     "output_type": "stream"
    }
   ],
   "source": [
    "butterfly_directory = r\"D:\\Betastop_dataset\\x_train\\butterfly\\pieris_rapae\"\n",
    "new_butterfly_directory = r\"D:\\Betastop_dataset\\x_train\\P_test\\pap\"\n",
    "print(load_dataset(data_list,3))\n",
    "##print(load_dataset(test_data,1))\n",
    "download_images(new_data_list, new_butterfly_directory)\n",
    "\n",
    "\n"
   ],
   "metadata": {
    "collapsed": false,
    "pycharm": {
     "name": "#%%\n",
     "is_executing": false
    }
   }
  },
  {
   "cell_type": "code",
   "execution_count": null,
   "outputs": [],
   "source": [],
   "metadata": {
    "collapsed": false,
    "pycharm": {
     "name": "#%%\n",
     "is_executing": true
    }
   }
  }
 ],
 "metadata": {
  "kernelspec": {
   "display_name": "Python 3",
   "language": "python",
   "name": "python3"
  },
  "language_info": {
   "codemirror_mode": {
    "name": "ipython",
    "version": 2
   },
   "file_extension": ".py",
   "mimetype": "text/x-python",
   "name": "python",
   "nbconvert_exporter": "python",
   "pygments_lexer": "ipython2",
   "version": "2.7.6"
  },
  "pycharm": {
   "stem_cell": {
    "cell_type": "raw",
    "source": [],
    "metadata": {
     "collapsed": false
    }
   }
  }
 },
 "nbformat": 4,
 "nbformat_minor": 0
}